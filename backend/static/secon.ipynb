{
 "cells": [
  {
   "cell_type": "code",
   "execution_count": 1,
   "id": "c1a123de",
   "metadata": {},
   "outputs": [
    {
     "name": "stdout",
     "output_type": "stream",
     "text": [
      "5.0\n"
     ]
    }
   ],
   "source": [
    "a = int(input(\"Enter the number:\"))\n",
    "b = float(a)\n",
    "print(b)"
   ]
  },
  {
   "cell_type": "code",
   "execution_count": 2,
   "id": "64887b7d",
   "metadata": {},
   "outputs": [
    {
     "name": "stdout",
     "output_type": "stream",
     "text": [
      "Original string: 1234\n",
      "Converted string to integer: 1234\n"
     ]
    }
   ],
   "source": [
    "n = input(\"Enter the id:\").strip()\n",
    "x = int(n)\n",
    "print(\"Original string:\", n)\n",
    "print(\"Converted string to integer:\", x)"
   ]
  },
  {
   "cell_type": "code",
   "execution_count": 4,
   "id": "e44ef53c",
   "metadata": {},
   "outputs": [
    {
     "name": "stdout",
     "output_type": "stream",
     "text": [
      "3 2\n"
     ]
    }
   ],
   "source": [
    "x = int(input(\"Enter the first number:\"))\n",
    "y = int(input(\"Enter the second number:\"))\n",
    "x, y = y, x\n",
    "print(x, y)\n"
   ]
  },
  {
   "cell_type": "code",
   "execution_count": null,
   "id": "b9041eb1",
   "metadata": {},
   "outputs": [],
   "source": [
    "x, y = 10, 50\n",
    "temp = x\n",
    "x = y\n",
    "y = temp\n",
    "print(x, y)\n"
   ]
  },
  {
   "cell_type": "code",
   "execution_count": null,
   "id": "8c0e9626",
   "metadata": {},
   "outputs": [],
   "source": [
    "x, y = 10, 50\n",
    "x = x + y\n",
    "y = x - y\n",
    "x = x - y\n",
    "print(x, y)"
   ]
  },
  {
   "cell_type": "code",
   "execution_count": null,
   "id": "9cedc884",
   "metadata": {},
   "outputs": [],
   "source": [
    "def swap(a, b):\n",
    "    return b, a\n",
    "\n",
    "x, y = 10, 50\n",
    "x, y = swap(x, y)\n",
    "print(x, y)\n"
   ]
  },
  {
   "cell_type": "code",
   "execution_count": 2,
   "id": "e4bcb5cf",
   "metadata": {},
   "outputs": [
    {
     "name": "stdout",
     "output_type": "stream",
     "text": [
      "50 10\n"
     ]
    }
   ],
   "source": [
    "x, y = 10, 50\n",
    "x = x * y\n",
    "y = x // y\n",
    "x = x // y\n",
    "print(x, y)"
   ]
  },
  {
   "cell_type": "code",
   "execution_count": null,
   "id": "a8b37459",
   "metadata": {},
   "outputs": [
    {
     "name": "stdout",
     "output_type": "stream",
     "text": [
      "1.1\n"
     ]
    }
   ],
   "source": [
    "dic = {\"PDF\":1.1, \"DOC\":2.2, \"TXT\":3.3}\n",
    "x = input(\"Enter the file type:\").strip().lower()\n",
    "if x in dic:\n",
    "    print(dic[x])"
   ]
  },
  {
   "cell_type": "code",
   "execution_count": 3,
   "id": "3be36d8e",
   "metadata": {},
   "outputs": [
    {
     "name": "stdout",
     "output_type": "stream",
     "text": [
      "Light Rain\n"
     ]
    }
   ],
   "source": [
    "n = int(input(\"Enter the number:\"))\n",
    "if 0 <= n <= 1:\n",
    "    print(\"No Rain\")\n",
    "elif 1 < n <= 5:\n",
    "    print(\"Light Rain\")\n",
    "elif 5 < n <= 10:\n",
    "    print(\"Moderate Rain\")\n",
    "elif n >= 10:\n",
    "    print(\"Heavy Rain\")"
   ]
  },
  {
   "cell_type": "code",
   "execution_count": 10,
   "id": "646eb942",
   "metadata": {},
   "outputs": [
    {
     "name": "stdout",
     "output_type": "stream",
     "text": [
      "Result: 6.0\n"
     ]
    }
   ],
   "source": [
    "#x, y = map(int(input(\"Enter the two values\").split()))\n",
    "#op = input(\"Enter the operation (+, -, *, /):\").strip()\n",
    "res = float(eval(input(\"Enter the expression:\").strip()))\n",
    "print(\"Result:\", res)"
   ]
  },
  {
   "cell_type": "code",
   "execution_count": 20,
   "id": "5c4cc5ed",
   "metadata": {},
   "outputs": [
    {
     "name": "stdout",
     "output_type": "stream",
     "text": [
      "Two wheelers: 130\n",
      "Four wheelers: 70\n"
     ]
    }
   ],
   "source": [
    "v = int(input(\"Enter the total number of Vehicles\"))\n",
    "w = int(input(\"Enter the total number of wheels\"))\n",
    "\n",
    "if w >= 2 and w % 2 == 0 and v < w:\n",
    "    TW = (w - 2 * v) // 2\n",
    "    FW = v - TW\n",
    "    if TW >= 0 and FW >= 0:\n",
    "        print(f\"Two wheelers: {FW}\")\n",
    "        print(f\"Four wheelers: {TW}\")\n",
    "    else:\n",
    "        print(\"Invalid input: Negative number of vehicles.\")\n",
    "else:\n",
    "    print(\"Invalid input: Check the constraints.\")"
   ]
  },
  {
   "cell_type": "code",
   "execution_count": 17,
   "id": "81914395",
   "metadata": {},
   "outputs": [
    {
     "name": "stdout",
     "output_type": "stream",
     "text": [
      "Price : 6\n"
     ]
    }
   ],
   "source": [
    "n = input(\"Enter the number:\").strip()\n",
    "product = 1\n",
    "for i in n:\n",
    "    product *= int(i)\n",
    "print(\"Price :\", product)"
   ]
  },
  {
   "cell_type": "code",
   "execution_count": 21,
   "id": "aab48720",
   "metadata": {},
   "outputs": [
    {
     "name": "stdout",
     "output_type": "stream",
     "text": [
      "True\n",
      "True\n",
      "False\n",
      "True\n"
     ]
    }
   ],
   "source": [
    "def isvalid(s: str) -> bool:\n",
    "    stack = []\n",
    "    for char in s:\n",
    "        if char in \"({[\":\n",
    "            stack.append(char)\n",
    "        else:\n",
    "            if not stack or (char == ')' and stack[-1] != '(') or (char == '}' and stack[-1] != '{') or (char == ']' and stack[-1] != '['):\n",
    "                return False\n",
    "            stack.pop()\n",
    "    return not stack\n",
    "print(isvalid(\"()\"))\n",
    "print(isvalid(\"()[]{}\"))\n",
    "print(isvalid(\"(]\"))\n",
    "print(isvalid(\"([])\"))\n"
   ]
  },
  {
   "cell_type": "code",
   "execution_count": 1,
   "id": "08713968",
   "metadata": {},
   "outputs": [
    {
     "name": "stdout",
     "output_type": "stream",
     "text": [
      "Requirement already satisfied: psutil in c:\\users\\sanid\\appdata\\roaming\\python\\python311\\site-packages (7.0.0)\n",
      "Note: you may need to restart the kernel to use updated packages.\n"
     ]
    },
    {
     "name": "stderr",
     "output_type": "stream",
     "text": [
      "\n",
      "[notice] A new release of pip is available: 25.0.1 -> 25.1.1\n",
      "[notice] To update, run: python.exe -m pip install --upgrade pip\n"
     ]
    }
   ],
   "source": [
    "%pip install psutil"
   ]
  },
  {
   "cell_type": "code",
   "execution_count": null,
   "id": "037126e0",
   "metadata": {},
   "outputs": [],
   "source": [
    "import psutil\n",
    "import time\n",
    "\n",
    "CPU_THRESHOLD = 20 \n",
    "CHECK_INTERVAL = 5 \n",
    "\n",
    "while True:\n",
    "    cpu_usage = psutil.cpu_percent(interval=1)\n",
    "    if cpu_usage > CPU_THRESHOLD:\n",
    "        print(f\"ALERT: High CPU Usage - {cpu_usage}%\")\n",
    "    else:\n",
    "        print(f\"OK: CPU Usage is {cpu_usage}%\")\n",
    "    time.sleep(CHECK_INTERVAL)\n"
   ]
  },
  {
   "cell_type": "code",
   "execution_count": null,
   "id": "74a9b5dc",
   "metadata": {},
   "outputs": [
    {
     "name": "stdout",
     "output_type": "stream",
     "text": [
      "The youngest child is: Jane\n"
     ]
    }
   ],
   "source": [
    "#Arbitrary Arguments\n",
    "def fun(*kids):\n",
    "    print(\"The youngest child is:\", kids[2])\n",
    "fun(\"John\", \"Doe\", \"Jane\")\n",
    "\n",
    "#keyword arguments\n",
    "def fun(**kids):\n",
    "    print(\"The youngest child is:\", kids[\"child3\"])\n",
    "fun(child1=\"John\", child2=\"Doe\", child3=\"Jane\")"
   ]
  },
  {
   "cell_type": "code",
   "execution_count": 6,
   "id": "50ae2327",
   "metadata": {},
   "outputs": [
    {
     "name": "stdout",
     "output_type": "stream",
     "text": [
      "Hello Alice, you are 30 years old.\n",
      "Hello Bob, you are 25 years old.\n",
      "Hello Charlie, you are 30 years old.\n",
      "Hello David\n",
      "Hello Eve\n",
      "Hello Frank\n",
      "name: Grace\n",
      "age: 28\n",
      "city: New York\n"
     ]
    }
   ],
   "source": [
    "#Types of arguments:\n",
    "#  Position Arguments:\n",
    "def greet(name, age):\n",
    "    print(f\"Hello {name}, you are {age} years old.\")\n",
    "greet(\"Alice\", 30)\n",
    "# Keyword Arguments:\n",
    "def greet(name, age):\n",
    "    print(f\"Hello {name}, you are {age} years old.\")\n",
    "greet(name=\"Bob\", age=25)\n",
    "# Default Arguments:\n",
    "def greet(name, age=30):\n",
    "    print(f\"Hello {name}, you are {age} years old.\")\n",
    "greet(\"Charlie\")\n",
    "# Variable-length Arguments:\n",
    "def greet(*names):\n",
    "    for name in names:\n",
    "        print(f\"Hello {name}\")\n",
    "greet(\"David\", \"Eve\", \"Frank\")\n",
    "# Keyword Variable-length Arguments:\n",
    "def greet(**kwargs):\n",
    "    for key, value in kwargs.items():\n",
    "        print(f\"{key}: {value}\")\n",
    "greet(name=\"Grace\", age=28, city=\"New York\")\n"
   ]
  },
  {
   "cell_type": "code",
   "execution_count": 8,
   "id": "f529342a",
   "metadata": {},
   "outputs": [
    {
     "name": "stdout",
     "output_type": "stream",
     "text": [
      "8\n",
      "20\n"
     ]
    }
   ],
   "source": [
    "#lambda function : small anonymous function , can take any number of arguments but can have only one expression\n",
    "add = lambda x, y: x + y\n",
    "print(add(5, 3))  # Output: 8\n",
    "\n",
    "large = lambda x, y: a if x > y else y\n",
    "print(large(10, 20))"
   ]
  },
  {
   "cell_type": "code",
   "execution_count": null,
   "id": "fff06d80",
   "metadata": {},
   "outputs": [],
   "source": [
    "def lam(n):\n",
    "    return lambda x: x * n\n",
    "multiplier = lam(5)\n",
    "print(multiplier(10))\n",
    "\n",
    "def mul(n):\n",
    "    return lambda x: x * n\n",
    "multiplier = mul(3)\n",
    "tripler = mul(10)\n",
    "print(multiplier(10))\n",
    "print(tripler(10))"
   ]
  },
  {
   "cell_type": "code",
   "execution_count": 20,
   "id": "e6c5a073",
   "metadata": {},
   "outputs": [
    {
     "name": "stdout",
     "output_type": "stream",
     "text": [
      "<re.Match object; span=(0, 17), match='The rain in Spain'>\n",
      "['ai', 'ai']\n",
      "first space: 3\n",
      "last space: 4\n",
      "all spaces: (3, 4)\n",
      "['The', 'rain', 'in', 'Spain']\n",
      "['The', 'rain', 'in Spain']\n",
      "The9rain9in9Spain\n",
      "The9rain9in Spain\n"
     ]
    }
   ],
   "source": [
    "#in re,\n",
    "#  ^ - matches the start of a string\n",
    "#  $ - matches the end of a string\n",
    "#  + - concatenates the string ?=.* - must match at least one character\n",
    "import re\n",
    "txt = \"The rain in Spain\"\n",
    "x = re.search(\"^The.*Spain$\", txt)\n",
    "print(x) #span tag\n",
    "\n",
    "y = re.findall(\"ai\", txt)\n",
    "print(y)\n",
    "\n",
    "z = re.search(\"\\s\", txt)\n",
    "print(\"first space:\", z.start()) \n",
    "print(\"last space:\", z.end())\n",
    "print(\"all spaces:\", z.span())\n",
    "\n",
    "a = re.split('\\s', txt)\n",
    "print(a)\n",
    "b = re.split('\\s', txt, 2)\n",
    "print(b)\n",
    "\n",
    "se = re.sub(\"\\s\", \"9\", txt)\n",
    "print(se)\n",
    "\n",
    "s = re.sub(\"\\s\", \"9\", txt, 2)\n",
    "print(s)"
   ]
  },
  {
   "cell_type": "code",
   "execution_count": null,
   "id": "b822694d",
   "metadata": {},
   "outputs": [],
   "source": []
  }
 ],
 "metadata": {
  "kernelspec": {
   "display_name": "Python 3",
   "language": "python",
   "name": "python3"
  },
  "language_info": {
   "codemirror_mode": {
    "name": "ipython",
    "version": 3
   },
   "file_extension": ".py",
   "mimetype": "text/x-python",
   "name": "python",
   "nbconvert_exporter": "python",
   "pygments_lexer": "ipython3",
   "version": "3.11.9"
  }
 },
 "nbformat": 4,
 "nbformat_minor": 5
}
